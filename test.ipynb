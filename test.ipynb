{
 "cells": [
  {
   "cell_type": "code",
   "execution_count": 15,
   "metadata": {},
   "outputs": [],
   "source": [
    "from airflow import DAG\n",
    "from airflow.operators.python import PythonOperator\n",
    "from datetime import datetime, timedelta\n",
    "\n",
    "default_args = {\n",
    "'owner': 'airflow',\n",
    "'depends_on_past': False,\n",
    "'start_date': datetime(2023,12,19),\n",
    "'email': ['stanley7425@gmail.com'],\n",
    "'retries': 1,\n",
    "'retry_delay': timedelta(minutes=1)\n",
    "\n",
    "}\n",
    "\n",
    "\n",
    "    \n",
    "def my_1st_func():\n",
    "    print(1)\n",
    "\n",
    "def my_2nd_func():\n",
    "  print(2)\n",
    "\n",
    "with DAG(\n",
    "    'Testing_Dag',\n",
    "    default_args=default_args,\n",
    "    description='my first dag'\n",
    "\n",
    ") as DAG:\n",
    "    \n",
    "\n",
    "\n",
    "    first_function_execute = PythonOperator(\n",
    "        task_id=\"my_1st_func\",\n",
    "        python_callable=my_1st_func\n",
    "    )\n",
    "\n",
    "    second_function_execute = PythonOperator(\n",
    "        task_id=\"my_2nd_func\",\n",
    "        python_callable=my_2nd_func\n",
    "    )\n",
    "\n",
    "\n",
    "\n",
    "    first_function_execute >> second_function_execute"
   ]
  }
 ],
 "metadata": {
  "kernelspec": {
   "display_name": "Python 3",
   "language": "python",
   "name": "python3"
  },
  "language_info": {
   "codemirror_mode": {
    "name": "ipython",
    "version": 3
   },
   "file_extension": ".py",
   "mimetype": "text/x-python",
   "name": "python",
   "nbconvert_exporter": "python",
   "pygments_lexer": "ipython3",
   "version": "3.8.0"
  }
 },
 "nbformat": 4,
 "nbformat_minor": 2
}
